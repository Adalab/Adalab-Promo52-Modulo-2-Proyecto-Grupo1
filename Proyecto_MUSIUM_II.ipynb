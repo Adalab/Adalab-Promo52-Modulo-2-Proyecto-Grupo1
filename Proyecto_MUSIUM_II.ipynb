{
 "cells": [
  {
   "cell_type": "markdown",
   "id": "c8c46504",
   "metadata": {},
   "source": [
    "# MUSEO VIRTUAL INTERACTIVO: ART AFTER DARK\n",
    "\n",
    "### Creación de la base da datos e inserción de datos"
   ]
  },
  {
   "cell_type": "code",
   "execution_count": 123,
   "id": "f102135e",
   "metadata": {},
   "outputs": [],
   "source": [
    "# Importar librerías para manipulación y análisis de datos\n",
    "import mysql.connector\n",
    "from mysql.connector import errorcode\n",
    "import requests\n",
    "import pandas as pd\n",
    "import numpy as np\n",
    "import re\n"
   ]
  },
  {
   "cell_type": "code",
   "execution_count": null,
   "id": "5623964a",
   "metadata": {},
   "outputs": [],
   "source": [
    "#Abrimos los DataFrames:\n",
    "\n",
    "df_spotify_csv = pd.read_csv(\"spoty_min.csv\", index_col=False)\n",
    "df_lastfm_csv = pd.read_csv(\"lastfm_min.csv\", index_col=False)\n",
    "\n",
    "pd.set_option('display.max_rows', None) #para que muestre todos los registros"
   ]
  },
  {
   "cell_type": "code",
   "execution_count": 125,
   "id": "d81425ef",
   "metadata": {},
   "outputs": [
    {
     "data": {
      "text/html": [
       "<div>\n",
       "<style scoped>\n",
       "    .dataframe tbody tr th:only-of-type {\n",
       "        vertical-align: middle;\n",
       "    }\n",
       "\n",
       "    .dataframe tbody tr th {\n",
       "        vertical-align: top;\n",
       "    }\n",
       "\n",
       "    .dataframe thead th {\n",
       "        text-align: right;\n",
       "    }\n",
       "</style>\n",
       "<table border=\"1\" class=\"dataframe\">\n",
       "  <thead>\n",
       "    <tr style=\"text-align: right;\">\n",
       "      <th></th>\n",
       "      <th>name_track</th>\n",
       "      <th>name_artist</th>\n",
       "      <th>genre</th>\n",
       "      <th>type</th>\n",
       "      <th>year</th>\n",
       "      <th>popularity</th>\n",
       "      <th>total_tracks</th>\n",
       "      <th>disc_number</th>\n",
       "      <th>duration_ms</th>\n",
       "      <th>explicit</th>\n",
       "    </tr>\n",
       "  </thead>\n",
       "  <tbody>\n",
       "    <tr>\n",
       "      <th>5087</th>\n",
       "      <td>cartier santos</td>\n",
       "      <td>sdm</td>\n",
       "      <td>pop</td>\n",
       "      <td>track</td>\n",
       "      <td>2024</td>\n",
       "      <td>78</td>\n",
       "      <td>14</td>\n",
       "      <td>1</td>\n",
       "      <td>183813</td>\n",
       "      <td>True</td>\n",
       "    </tr>\n",
       "    <tr>\n",
       "      <th>4941</th>\n",
       "      <td>alibi (feat. rudimental)</td>\n",
       "      <td>ella henderson</td>\n",
       "      <td>pop</td>\n",
       "      <td>track</td>\n",
       "      <td>2024</td>\n",
       "      <td>76</td>\n",
       "      <td>1</td>\n",
       "      <td>1</td>\n",
       "      <td>184852</td>\n",
       "      <td>False</td>\n",
       "    </tr>\n",
       "    <tr>\n",
       "      <th>5149</th>\n",
       "      <td>llevame a bailar</td>\n",
       "      <td>embusteros</td>\n",
       "      <td>rock</td>\n",
       "      <td>track</td>\n",
       "      <td>2024</td>\n",
       "      <td>48</td>\n",
       "      <td>10</td>\n",
       "      <td>1</td>\n",
       "      <td>217018</td>\n",
       "      <td>False</td>\n",
       "    </tr>\n",
       "    <tr>\n",
       "      <th>2971</th>\n",
       "      <td>brain revolution girl 2016 ver.</td>\n",
       "      <td>maretu</td>\n",
       "      <td>rock</td>\n",
       "      <td>track</td>\n",
       "      <td>2016</td>\n",
       "      <td>59</td>\n",
       "      <td>15</td>\n",
       "      <td>1</td>\n",
       "      <td>220108</td>\n",
       "      <td>False</td>\n",
       "    </tr>\n",
       "    <tr>\n",
       "      <th>4948</th>\n",
       "      <td>magnetic</td>\n",
       "      <td>illit</td>\n",
       "      <td>pop</td>\n",
       "      <td>track</td>\n",
       "      <td>2024</td>\n",
       "      <td>84</td>\n",
       "      <td>4</td>\n",
       "      <td>1</td>\n",
       "      <td>160688</td>\n",
       "      <td>False</td>\n",
       "    </tr>\n",
       "  </tbody>\n",
       "</table>\n",
       "</div>"
      ],
      "text/plain": [
       "                           name_track     name_artist genre   type  year  \\\n",
       "5087                   cartier santos             sdm   pop  track  2024   \n",
       "4941         alibi (feat. rudimental)  ella henderson   pop  track  2024   \n",
       "5149                 llevame a bailar      embusteros  rock  track  2024   \n",
       "2971  brain revolution girl 2016 ver.          maretu  rock  track  2016   \n",
       "4948                         magnetic           illit   pop  track  2024   \n",
       "\n",
       "      popularity  total_tracks  disc_number  duration_ms  explicit  \n",
       "5087          78            14            1       183813      True  \n",
       "4941          76             1            1       184852     False  \n",
       "5149          48            10            1       217018     False  \n",
       "2971          59            15            1       220108     False  \n",
       "4948          84             4            1       160688     False  "
      ]
     },
     "execution_count": 125,
     "metadata": {},
     "output_type": "execute_result"
    }
   ],
   "source": [
    "df_spotify_csv.sample(5)"
   ]
  },
  {
   "cell_type": "code",
   "execution_count": 126,
   "id": "4237f08f",
   "metadata": {},
   "outputs": [
    {
     "data": {
      "text/html": [
       "<div>\n",
       "<style scoped>\n",
       "    .dataframe tbody tr th:only-of-type {\n",
       "        vertical-align: middle;\n",
       "    }\n",
       "\n",
       "    .dataframe tbody tr th {\n",
       "        vertical-align: top;\n",
       "    }\n",
       "\n",
       "    .dataframe thead th {\n",
       "        text-align: right;\n",
       "    }\n",
       "</style>\n",
       "<table border=\"1\" class=\"dataframe\">\n",
       "  <thead>\n",
       "    <tr style=\"text-align: right;\">\n",
       "      <th></th>\n",
       "      <th>artista</th>\n",
       "      <th>de_gira</th>\n",
       "      <th>reproducciones</th>\n",
       "      <th>oyentes</th>\n",
       "      <th>biografia</th>\n",
       "      <th>similares</th>\n",
       "      <th>genero</th>\n",
       "    </tr>\n",
       "  </thead>\n",
       "  <tbody>\n",
       "    <tr>\n",
       "      <th>977</th>\n",
       "      <td>ella henderson</td>\n",
       "      <td>0</td>\n",
       "      <td>7250749</td>\n",
       "      <td>616669</td>\n",
       "      <td>Ella Henderson (born 12 January 1996) is a Bri...</td>\n",
       "      <td>becky hill, jess glynne, leona lewis, mimi web...</td>\n",
       "      <td>pop, british, soul, singer-songwriter, x factor</td>\n",
       "    </tr>\n",
       "    <tr>\n",
       "      <th>90</th>\n",
       "      <td>mj lenderman</td>\n",
       "      <td>1</td>\n",
       "      <td>8701351</td>\n",
       "      <td>272864</td>\n",
       "      <td>MJ Lenderman is the solo project of singer-son...</td>\n",
       "      <td>wednesday, greg freeman, merce lemon, silver j...</td>\n",
       "      <td>alt-country, indie rock, slowcore, slacker roc...</td>\n",
       "    </tr>\n",
       "    <tr>\n",
       "      <th>1040</th>\n",
       "      <td>chimbala</td>\n",
       "      <td>0</td>\n",
       "      <td>650894</td>\n",
       "      <td>72520</td>\n",
       "      <td></td>\n",
       "      <td>don miguelo, bulin 47, el alfa, rochy rd, arca...</td>\n",
       "      <td>reggaeton, dominican republic, dominican, dembow</td>\n",
       "    </tr>\n",
       "    <tr>\n",
       "      <th>456</th>\n",
       "      <td>caleb hearn</td>\n",
       "      <td>0</td>\n",
       "      <td>1549512</td>\n",
       "      <td>128412</td>\n",
       "      <td>Caleb Hearn (born 23. june 2000) was born in t...</td>\n",
       "      <td>matt hansen, suriel hess, anson seabra, rosie ...</td>\n",
       "      <td>singer-songwriter, pop, folk, indie pop, indie...</td>\n",
       "    </tr>\n",
       "    <tr>\n",
       "      <th>33</th>\n",
       "      <td>barns courtney</td>\n",
       "      <td>0</td>\n",
       "      <td>8413049</td>\n",
       "      <td>445923</td>\n",
       "      <td>Barns Courtney (born Barnaby George Courtney o...</td>\n",
       "      <td>the unlikely candidates, des rocs, oh the larc...</td>\n",
       "      <td>seen live, alternative, folk, singer-songwrite...</td>\n",
       "    </tr>\n",
       "  </tbody>\n",
       "</table>\n",
       "</div>"
      ],
      "text/plain": [
       "             artista  de_gira  reproducciones  oyentes  \\\n",
       "977   ella henderson        0         7250749   616669   \n",
       "90      mj lenderman        1         8701351   272864   \n",
       "1040        chimbala        0          650894    72520   \n",
       "456      caleb hearn        0         1549512   128412   \n",
       "33    barns courtney        0         8413049   445923   \n",
       "\n",
       "                                              biografia  \\\n",
       "977   Ella Henderson (born 12 January 1996) is a Bri...   \n",
       "90    MJ Lenderman is the solo project of singer-son...   \n",
       "1040                                                      \n",
       "456   Caleb Hearn (born 23. june 2000) was born in t...   \n",
       "33    Barns Courtney (born Barnaby George Courtney o...   \n",
       "\n",
       "                                              similares  \\\n",
       "977   becky hill, jess glynne, leona lewis, mimi web...   \n",
       "90    wednesday, greg freeman, merce lemon, silver j...   \n",
       "1040  don miguelo, bulin 47, el alfa, rochy rd, arca...   \n",
       "456   matt hansen, suriel hess, anson seabra, rosie ...   \n",
       "33    the unlikely candidates, des rocs, oh the larc...   \n",
       "\n",
       "                                                 genero  \n",
       "977     pop, british, soul, singer-songwriter, x factor  \n",
       "90    alt-country, indie rock, slowcore, slacker roc...  \n",
       "1040   reggaeton, dominican republic, dominican, dembow  \n",
       "456   singer-songwriter, pop, folk, indie pop, indie...  \n",
       "33    seen live, alternative, folk, singer-songwrite...  "
      ]
     },
     "execution_count": 126,
     "metadata": {},
     "output_type": "execute_result"
    }
   ],
   "source": [
    "df_lastfm_csv.sample(5)"
   ]
  },
  {
   "cell_type": "code",
   "execution_count": 107,
   "id": "94e44830",
   "metadata": {},
   "outputs": [
    {
     "data": {
      "text/html": [
       "<div>\n",
       "<style scoped>\n",
       "    .dataframe tbody tr th:only-of-type {\n",
       "        vertical-align: middle;\n",
       "    }\n",
       "\n",
       "    .dataframe tbody tr th {\n",
       "        vertical-align: top;\n",
       "    }\n",
       "\n",
       "    .dataframe thead th {\n",
       "        text-align: right;\n",
       "    }\n",
       "</style>\n",
       "<table border=\"1\" class=\"dataframe\">\n",
       "  <thead>\n",
       "    <tr style=\"text-align: right;\">\n",
       "      <th></th>\n",
       "      <th>artist</th>\n",
       "      <th>similar_artist</th>\n",
       "    </tr>\n",
       "  </thead>\n",
       "  <tbody>\n",
       "    <tr>\n",
       "      <th>4235</th>\n",
       "      <td>kygo</td>\n",
       "      <td>gryffin</td>\n",
       "    </tr>\n",
       "    <tr>\n",
       "      <th>3668</th>\n",
       "      <td>meghan trainor</td>\n",
       "      <td>zara larsson</td>\n",
       "    </tr>\n",
       "    <tr>\n",
       "      <th>680</th>\n",
       "      <td>kevin rudolf</td>\n",
       "      <td>timbaland</td>\n",
       "    </tr>\n",
       "    <tr>\n",
       "      <th>2485</th>\n",
       "      <td>kaaris</td>\n",
       "      <td>sch</td>\n",
       "    </tr>\n",
       "    <tr>\n",
       "      <th>3812</th>\n",
       "      <td>electric guest</td>\n",
       "      <td>slenderbodies</td>\n",
       "    </tr>\n",
       "  </tbody>\n",
       "</table>\n",
       "</div>"
      ],
      "text/plain": [
       "              artist similar_artist\n",
       "4235            kygo        gryffin\n",
       "3668  meghan trainor   zara larsson\n",
       "680     kevin rudolf      timbaland\n",
       "2485          kaaris            sch\n",
       "3812  electric guest  slenderbodies"
      ]
     },
     "execution_count": 107,
     "metadata": {},
     "output_type": "execute_result"
    }
   ],
   "source": [
    "df_similars.sample(5)"
   ]
  },
  {
   "cell_type": "code",
   "execution_count": 108,
   "id": "bd6f7568",
   "metadata": {},
   "outputs": [
    {
     "data": {
      "text/html": [
       "<div>\n",
       "<style scoped>\n",
       "    .dataframe tbody tr th:only-of-type {\n",
       "        vertical-align: middle;\n",
       "    }\n",
       "\n",
       "    .dataframe tbody tr th {\n",
       "        vertical-align: top;\n",
       "    }\n",
       "\n",
       "    .dataframe thead th {\n",
       "        text-align: right;\n",
       "    }\n",
       "</style>\n",
       "<table border=\"1\" class=\"dataframe\">\n",
       "  <thead>\n",
       "    <tr style=\"text-align: right;\">\n",
       "      <th></th>\n",
       "      <th>artist</th>\n",
       "      <th>genre</th>\n",
       "    </tr>\n",
       "  </thead>\n",
       "  <tbody>\n",
       "    <tr>\n",
       "      <th>6367</th>\n",
       "      <td>erre xi</td>\n",
       "      <td>rnb</td>\n",
       "    </tr>\n",
       "    <tr>\n",
       "      <th>779</th>\n",
       "      <td>david civera</td>\n",
       "      <td>eurovision</td>\n",
       "    </tr>\n",
       "    <tr>\n",
       "      <th>5262</th>\n",
       "      <td>gorillaz</td>\n",
       "      <td>hip-hop</td>\n",
       "    </tr>\n",
       "    <tr>\n",
       "      <th>3451</th>\n",
       "      <td>rat boy</td>\n",
       "      <td>punk</td>\n",
       "    </tr>\n",
       "    <tr>\n",
       "      <th>3031</th>\n",
       "      <td>babymetal</td>\n",
       "      <td>metal</td>\n",
       "    </tr>\n",
       "  </tbody>\n",
       "</table>\n",
       "</div>"
      ],
      "text/plain": [
       "            artist       genre\n",
       "6367       erre xi         rnb\n",
       "779   david civera  eurovision\n",
       "5262      gorillaz     hip-hop\n",
       "3451       rat boy        punk\n",
       "3031     babymetal       metal"
      ]
     },
     "execution_count": 108,
     "metadata": {},
     "output_type": "execute_result"
    }
   ],
   "source": [
    "df_genres.sample(5)"
   ]
  },
  {
   "cell_type": "code",
   "execution_count": 109,
   "id": "62a268ee",
   "metadata": {},
   "outputs": [
    {
     "name": "stdout",
     "output_type": "stream",
     "text": [
      "CMySQLCursor: DROP DATABASE IF EXISTS musium\n"
     ]
    }
   ],
   "source": [
    "# ELIMINACIÓN\n",
    "\n",
    "cnx = mysql.connector.connect(user='root', password = 'AlumnaAdalab', host='127.0.0.1')\n",
    "mycursor = cnx.cursor()\n",
    "\n",
    "try:\n",
    "    mycursor.execute('DROP DATABASE IF EXISTS musium')\n",
    "    print(mycursor)\n",
    "\n",
    "except mysql.connector.Error as err:\n",
    "    print(err)\n",
    "    print(\"Error Code:\", err.errno)\n",
    "    print(\"SQLSTATE\", err.sqlstate)\n",
    "    print(\"Message\", err.msg)"
   ]
  },
  {
   "cell_type": "code",
   "execution_count": 110,
   "id": "c331b3f7",
   "metadata": {},
   "outputs": [
    {
     "name": "stdout",
     "output_type": "stream",
     "text": [
      "CMySQLCursor: CREATE DATABASE IF NOT EXISTS musium\n"
     ]
    }
   ],
   "source": [
    "# Creación del Schema\n",
    "\n",
    "cnx = mysql.connector.connect(user='root', password = 'AlumnaAdalab', host='127.0.0.1')\n",
    "mycursor = cnx.cursor()\n",
    "\n",
    "try:\n",
    "    mycursor.execute('CREATE DATABASE IF NOT EXISTS musium')\n",
    "    print(mycursor)\n",
    "\n",
    "except mysql.connector.Error as err:\n",
    "    print(err)\n",
    "    print(\"Error Code:\", err.errno)\n",
    "    print(\"SQLSTATE\", err.sqlstate)\n",
    "    print(\"Message\", err.msg)"
   ]
  },
  {
   "cell_type": "code",
   "execution_count": 111,
   "id": "563c2e2a",
   "metadata": {},
   "outputs": [
    {
     "name": "stdout",
     "output_type": "stream",
     "text": [
      "CMySQLCursor: \n",
      "                     CREATE TABLE IF NO..\n"
     ]
    }
   ],
   "source": [
    "# Creación de la tabla de Spotify\n",
    "cnx = mysql.connector.connect(user='root', password = 'AlumnaAdalab', host='127.0.0.1')\n",
    "mycursor = cnx.cursor()\n",
    "\n",
    "try:\n",
    "    mycursor.execute('USE musium')\n",
    "    mycursor.execute('''\n",
    "                     CREATE TABLE IF NOT EXISTS tracks (\n",
    "                     id_track INT AUTO_INCREMENT PRIMARY KEY, \n",
    "                     track_name VARCHAR(320), \n",
    "                     artist_name VARCHAR(100),\n",
    "                     genre VARCHAR(15), \n",
    "                     type VARCHAR(8),\n",
    "                     year YEAR,\n",
    "                     popularity INT, \n",
    "                     total_tracks INT, \n",
    "                     disc_number INT, \n",
    "                     duration_ms FLOAT,\n",
    "                     explicit VARCHAR(10) )\n",
    "                     ''') \n",
    "    print(mycursor)\n",
    "\n",
    "except mysql.connector.Error as err:\n",
    "    print(err)\n",
    "    print(\"Error Code:\", err.errno)\n",
    "    print(\"SQLSTATE\", err.sqlstate)\n",
    "    print(\"Message\", err.msg)"
   ]
  },
  {
   "cell_type": "code",
   "execution_count": null,
   "id": "48232540",
   "metadata": {},
   "outputs": [],
   "source": [
    "# Convierte las celdas vacías en NULL \n",
    "\n",
    "df_spotify_csv = df_spotify_csv.replace({np.nan: None})"
   ]
  },
  {
   "cell_type": "code",
   "execution_count": 115,
   "id": "bc2a3162",
   "metadata": {},
   "outputs": [
    {
     "name": "stdout",
     "output_type": "stream",
     "text": [
      "6000 registros insertados.\n"
     ]
    }
   ],
   "source": [
    "# Carga de la tabla spotify en SQL\n",
    "\n",
    "order = \"INSERT INTO tracks (track_name, artist_name, genre, type, year, popularity, total_tracks, disc_number, duration_ms, explicit) VALUES (%s,%s,%s,%s,%s,%s,%s,%s,%s,%s)\"\n",
    "values = df_spotify_csv.values.tolist()\n",
    "\n",
    "try:\n",
    "    mycursor.executemany(order, values)\n",
    "    cnx.commit()\n",
    "    print(mycursor.rowcount, \"registros insertados.\")\n",
    "\n",
    "except mysql.connector.Error as err:\n",
    "    print(err)\n",
    "    print(\"Error Code:\", err.errno)\n",
    "    print(\"SQLSTATE\", err.sqlstate)\n",
    "    print(\"Message\", err.msg)"
   ]
  },
  {
   "cell_type": "code",
   "execution_count": 116,
   "id": "bccecac7",
   "metadata": {},
   "outputs": [
    {
     "name": "stdout",
     "output_type": "stream",
     "text": [
      "CMySQLCursor: \n",
      "                     CREATE TABLE IF NO..\n"
     ]
    }
   ],
   "source": [
    "# Creación tabla LASTFM\n",
    "\n",
    "cnx = mysql.connector.connect(user='root', password = 'AlumnaAdalab', host='127.0.0.1', database = 'musium')\n",
    "mycursor = cnx.cursor()\n",
    "\n",
    "try:\n",
    "    mycursor.execute('''\n",
    "                     CREATE TABLE IF NOT EXISTS artist (\n",
    "                     artist_name VARCHAR(100) PRIMARY KEY, \n",
    "                     on_tour VARCHAR(10), \n",
    "                     playcount BIGINT, \n",
    "                     listeners INT, \n",
    "                     biography TEXT, \n",
    "                     similar VARCHAR(380), \n",
    "                     genres VARCHAR(180))\n",
    "                     ''') \n",
    "    print(mycursor)\n",
    "\n",
    "except mysql.connector.Error as err:\n",
    "    print(err)\n",
    "    print(\"Error Code:\", err.errno)\n",
    "    print(\"SQLSTATE\", err.sqlstate)\n",
    "    print(\"Message\", err.msg)"
   ]
  },
  {
   "cell_type": "code",
   "execution_count": null,
   "id": "ac03376d",
   "metadata": {},
   "outputs": [],
   "source": [
    "# Convierte las celdas vacías en NULL \n",
    "\n",
    "df_lastfm_csv = df_lastfm_csv.replace({np.nan: None})"
   ]
  },
  {
   "cell_type": "code",
   "execution_count": 119,
   "id": "bcc30b81",
   "metadata": {},
   "outputs": [
    {
     "name": "stdout",
     "output_type": "stream",
     "text": [
      "1506 registros insertados.\n"
     ]
    }
   ],
   "source": [
    "# Inserción de valores de la tabla LAST FM\n",
    "cnx = mysql.connector.connect(user='root', password = 'AlumnaAdalab', host='127.0.0.1', database = 'musium')\n",
    "mycursor = cnx.cursor()\n",
    "\n",
    "order_2 = \"INSERT INTO artist (artist_name, on_tour, playcount, listeners, biography, similar, genres) VALUES (%s,%s,%s,%s,%s,%s,%s)\"\n",
    "values_2 = df_lastfm_csv.values.tolist()\n",
    "\n",
    "try:\n",
    "    mycursor.executemany(order_2, values_2)\n",
    "    cnx.commit()\n",
    "    print(mycursor.rowcount, \"registros insertados.\")\n",
    "\n",
    "except mysql.connector.Error as err:\n",
    "    print(err)\n",
    "    print(\"Error Code:\", err.errno)\n",
    "    print(\"SQLSTATE\", err.sqlstate)\n",
    "    print(\"Message\", err.msg)"
   ]
  },
  {
   "cell_type": "code",
   "execution_count": null,
   "id": "67106947",
   "metadata": {},
   "outputs": [
    {
     "name": "stdout",
     "output_type": "stream",
     "text": [
      "CMySQLCursor: ALTER TABLE tracks ADD FOREIGN KEY (arti..\n"
     ]
    }
   ],
   "source": [
    "# Establece artist_name como FOREIGN KEY\n",
    "\n",
    "cnx = mysql.connector.connect(user='root', password = 'AlumnaAdalab', host='127.0.0.1', database = 'musium')\n",
    "mycursor = cnx.cursor()\n",
    "\n",
    "try:\n",
    "    mycursor.execute('ALTER TABLE tracks ADD FOREIGN KEY (artist_name) REFERENCES artist(artist_name) ON DELETE CASCADE ON UPDATE CASCADE')\n",
    "    print(mycursor)\n",
    "\n",
    "except mysql.connector.Error as err:\n",
    "    print(err)\n",
    "    print(\"Error Code:\", err.errno)\n",
    "    print(\"SQLSTATE\", err.sqlstate)\n",
    "    print(\"Message\", err.msg)"
   ]
  },
  {
   "cell_type": "code",
   "execution_count": 120,
   "id": "f31ee5b3",
   "metadata": {},
   "outputs": [
    {
     "name": "stdout",
     "output_type": "stream",
     "text": [
      "CMySQLCursor: (Nothing executed yet)\n"
     ]
    }
   ],
   "source": [
    "cnx = mysql.connector.connect(user='root', password = 'AlumnaAdalab', host='127.0.0.1', database = 'musium')\n",
    "mycursor = cnx.cursor()\n",
    "\n",
    "try:\n",
    "    mycursor.execute('')\n",
    "    print(mycursor)\n",
    "\n",
    "except mysql.connector.Error as err:\n",
    "    print(err)\n",
    "    print(\"Error Code:\", err.errno)\n",
    "    print(\"SQLSTATE\", err.sqlstate)\n",
    "    print(\"Message\", err.msg)"
   ]
  },
  {
   "cell_type": "code",
   "execution_count": 128,
   "id": "85756356",
   "metadata": {},
   "outputs": [],
   "source": [
    "# CIERRA CONEXIÓN\n",
    "\n",
    "cnx.close()"
   ]
  }
 ],
 "metadata": {
  "kernelspec": {
   "display_name": "base",
   "language": "python",
   "name": "python3"
  },
  "language_info": {
   "codemirror_mode": {
    "name": "ipython",
    "version": 3
   },
   "file_extension": ".py",
   "mimetype": "text/x-python",
   "name": "python",
   "nbconvert_exporter": "python",
   "pygments_lexer": "ipython3",
   "version": "3.12.7"
  }
 },
 "nbformat": 4,
 "nbformat_minor": 5
}
